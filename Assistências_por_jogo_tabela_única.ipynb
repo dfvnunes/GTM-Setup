{
  "nbformat": 4,
  "nbformat_minor": 0,
  "metadata": {
    "colab": {
      "provenance": [],
      "authorship_tag": "ABX9TyNfytPoT9zT58GyNs+59w3/",
      "include_colab_link": true
    },
    "kernelspec": {
      "name": "python3",
      "display_name": "Python 3"
    },
    "language_info": {
      "name": "python"
    }
  },
  "cells": [
    {
      "cell_type": "markdown",
      "metadata": {
        "id": "view-in-github",
        "colab_type": "text"
      },
      "source": [
        "<a href=\"https://colab.research.google.com/github/dfvnunes/GTM-Setup/blob/main/Assist%C3%AAncias_por_jogo_tabela_%C3%BAnica.ipynb\" target=\"_parent\"><img src=\"https://colab.research.google.com/assets/colab-badge.svg\" alt=\"Open In Colab\"/></a>"
      ]
    },
    {
      "cell_type": "code",
      "execution_count": 4,
      "metadata": {
        "colab": {
          "base_uri": "https://localhost:8080/"
        },
        "id": "Xa3hzO_yw1hI",
        "outputId": "e1a585d8-1c56-4b33-e897-37743e1f5a04"
      },
      "outputs": [
        {
          "output_type": "stream",
          "name": "stdout",
          "text": [
            "Requirement already satisfied: openpyxl in /usr/local/lib/python3.11/dist-packages (3.1.5)\n",
            "Requirement already satisfied: et-xmlfile in /usr/local/lib/python3.11/dist-packages (from openpyxl) (2.0.0)\n",
            "Requirement already satisfied: xlsxwriter in /usr/local/lib/python3.11/dist-packages (3.2.2)\n"
          ]
        }
      ],
      "source": [
        "!pip install openpyxl\n",
        "!pip install xlsxwriter\n",
        "import pandas as pd\n",
        "import openpyxl\n",
        "import xlsxwriter\n",
        "\n",
        "# Importar o ficheiro Excel\n",
        "excel_file = pd.ExcelFile('/content/Assistencias por Jogo Final.xlsx')\n",
        "\n",
        "# Criar uma lista vazia para guardar os DataFrames de cada folha\n",
        "all_sheets_data = []\n",
        "\n",
        "# Iterar por cada folha e adicionar os dados à lista\n",
        "for sheet_name in excel_file.sheet_names:\n",
        "    df = excel_file.parse(sheet_name)\n",
        "    # Não é necessário adicionar a coluna 'Temporada' pois já existe\n",
        "    all_sheets_data.append(df)\n",
        "\n",
        "# Concatenar todos os DataFrames num só\n",
        "final_df = pd.concat(all_sheets_data, ignore_index=True)\n",
        "\n",
        "# Ordenar o DataFrame final por 'Temporada'\n",
        "# final_df = final_df.sort_values(by=['Temporada'])\n",
        "\n",
        "# Escrever o DataFrame final num novo ficheiro Excel\n",
        "with pd.ExcelWriter('Assistencias por Jogo_combinado.xlsx', engine='xlsxwriter') as writer:\n",
        "    final_df.to_excel(writer, sheet_name='Todas as Temporadas', index=False, header=True)\n",
        "    worksheet = writer.sheets['Todas as Temporadas']\n",
        "\n",
        "    for col_num, col_name in enumerate(final_df.columns):\n",
        "\n",
        "            # Lê a largura da coluna\n",
        "            column_width = max(final_df[col_name].astype(str).map(len).max(), len(col_name)) + 2\n",
        "\n",
        "\n",
        "            # Define o alinhamento e a largura da coluna\n",
        "            # Cria um formato para alinhamento\n",
        "            cell_format = writer.book.add_format()\n",
        "\n",
        "            # Define os parâmtros para o alinhamento das colunas\n",
        "            cell_format.set_align('center')\n",
        "            worksheet.set_column(col_num, col_num, column_width, cell_format)\n",
        ""
      ]
    }
  ]
}