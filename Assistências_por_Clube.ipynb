{
  "nbformat": 4,
  "nbformat_minor": 0,
  "metadata": {
    "colab": {
      "provenance": [],
      "authorship_tag": "ABX9TyMLlNsmBS7/++AFw9FuwzCf",
      "include_colab_link": true
    },
    "kernelspec": {
      "name": "python3",
      "display_name": "Python 3"
    },
    "language_info": {
      "name": "python"
    }
  },
  "cells": [
    {
      "cell_type": "markdown",
      "metadata": {
        "id": "view-in-github",
        "colab_type": "text"
      },
      "source": [
        "<a href=\"https://colab.research.google.com/github/dfvnunes/GTM-Setup/blob/main/Assist%C3%AAncias_por_Clube.ipynb\" target=\"_parent\"><img src=\"https://colab.research.google.com/assets/colab-badge.svg\" alt=\"Open In Colab\"/></a>"
      ]
    },
    {
      "cell_type": "code",
      "source": [
        "!pip install openpyxl\n",
        "!pip install xlsxwriter\n",
        "import pandas as pd\n",
        "import openpyxl\n",
        "import xlsxwriter\n",
        "\n",
        "df = pd.read_excel('/content/Por Clube.xlsx', sheet_name=None, thousands='.')\n",
        "\n",
        "for sheet_name, sheet_df in df.items():\n",
        "    # Identifica colunas Float64\n",
        "    float64_cols = sheet_df.select_dtypes(include=['float64']).columns\n",
        "\n",
        "    # Converte colunas Float64 para Int64\n",
        "    if len(float64_cols) >0: # Only convert if there are float64 columns\n",
        "      sheet_df[float64_cols] = sheet_df[float64_cols].astype('int64')\n",
        "\n",
        "    # Atualiza as folhas no dicionário (ficheiro)\n",
        "    df[sheet_name] = sheet_df\n",
        "\n",
        "    # Exporta para Excel\n",
        "with pd.ExcelWriter('Por Clube Int64.xlsx', engine='openpyxl') as writer:\n",
        "    for sheet_name, sheet_df in df.items():\n",
        "        sheet_df.to_excel(writer, sheet_name=sheet_name, index=False)\n",
        "\n",
        "excel_file = pd.ExcelFile('/content/Por Clube Int64.xlsx')\n",
        "\n",
        "# Dicionário com os nomes das ligas por época\n",
        "ligas_por_epoca = {\n",
        "    '2009-2010': {'Liga Sagres': 'Liga 1', 'Liga Vitalis': 'Liga 2'},\n",
        "    '2010-2011': {'Liga Zon Sagres': 'Liga 1', 'Liga Orangina': 'Liga 2'},\n",
        "    '2011-2012': {'Liga Zon Sagres': 'Liga 1', 'Liga Orangina' : 'Liga 2'},\n",
        "    '2012-2013': {'Liga ZON Sagres': 'Liga 1', 'Segunda Liga': 'Liga 2'},\n",
        "    '2013-2014': {'Liga ZON Sagres': 'Liga 1', 'Liga2 Cabovisão': 'Liga 2'},\n",
        "    '2014-2015': {'Liga NOS': 'Liga 1', 'Segunda Liga': 'Liga 2'},\n",
        "    '2015-2016': {'Liga NOS': 'Liga 1', 'Ledman LigaPRO': 'Liga 2'},\n",
        "    '2016-2017': {'Liga NOS': 'Liga 1', 'Ledman LigaPRO': 'Liga 2'},\n",
        "    '2017-2018': {'Liga NOS': 'Liga 1', 'Ledman LigaPRO': 'Liga 2'},\n",
        "    '2018-2019': {'Liga NOS': 'Liga 1', 'Ledman LigaPRO': 'Liga 2'},\n",
        "    '2019-2020': {'Liga NOS': 'Liga 1', 'LigaPro': 'Liga 2'},\n",
        "    '2020-2021': {'Liga NOS': 'Liga 1', 'Liga Portugal SABSEG': 'Liga 2'},\n",
        "    '2021-2022': {'Liga Portugal bwin': 'Liga 1', 'Liga Portugal SABSEG': 'Liga 2'},\n",
        "    '2022-2023': {'Liga Portugal bwin': 'Liga 1', 'Liga Portugal SABSEG': 'Liga 2'},\n",
        "    '2023-2024': {'Liga Portugal Betclic': 'Liga 1', 'Liga Portugal SABSEG': 'Liga 2'},\n",
        "}\n",
        "\n",
        "with pd.ExcelWriter('Por Clube Limpo.xlsx', mode='w') as writer:\n",
        "    # Loop para iterar pelas folhas\n",
        "\n",
        "        for sheet_name in excel_file.sheet_names:\n",
        "         # Lê a folha atual\n",
        "         df = excel_file.parse(sheet_name)\n",
        "\n",
        "         # Aplica as funções ao DataFrame da folha\n",
        "         if 'Ranking' in df.columns:\n",
        "             df_drop = df.drop('Ranking', axis=1)\n",
        "         else:\n",
        "             df_drop = df.copy()\n",
        "\n",
        "         # Substituir nomes das ligas de acordo com a época\n",
        "         if sheet_name in ligas_por_epoca:\n",
        "            substituicoes = ligas_por_epoca[sheet_name]\n",
        "            df_drop['Competição'] = df_drop['Competição'].replace(substituicoes)\n",
        "\n",
        "\n",
        "\n",
        "         styled_df = df_drop.style.format({'% média de ocupação': '{:.2%}'})\n",
        "         # display(styled_df)\n",
        "         df_drop['Temporada'] = sheet_name\n",
        "         df_drop = df_drop[['Competição', 'Temporada', 'Clube', 'Nº jogos em casa', 'Espectadores na última jornada', 'Média espectadores jogo', 'Acumulado da época', '% média ocupação']]\n",
        "\n",
        "\n",
        "         # Guarda o resultado na folha correspondente\n",
        "         df_drop.to_excel(writer, sheet_name=sheet_name, index=False, header=True)\n",
        "         worksheet = writer.sheets[sheet_name]\n",
        "\n",
        "         for col_num, col_name in enumerate(df_drop.columns):\n",
        "\n",
        "            # Lê a largura da coluna\n",
        "            column_width = max(df_drop[col_name].astype(str).map(len).max(), len(col_name)) + 2\n",
        "\n",
        "\n",
        "            # Define o alinhamento e a largura da coluna\n",
        "            # Cria um formato para alinhamento\n",
        "            cell_format = writer.book.add_format()\n",
        "\n",
        "            # Define os parâmtros para o alinhamento das colunas\n",
        "            cell_format.set_align('center')\n",
        "            worksheet.set_column(col_num, col_num, column_width, cell_format)"
      ],
      "metadata": {
        "colab": {
          "base_uri": "https://localhost:8080/"
        },
        "id": "m69FCqit-QVw",
        "outputId": "9d4659cf-f753-4991-e30c-c05c0c891945"
      },
      "execution_count": 26,
      "outputs": [
        {
          "output_type": "stream",
          "name": "stdout",
          "text": [
            "Requirement already satisfied: openpyxl in /usr/local/lib/python3.11/dist-packages (3.1.5)\n",
            "Requirement already satisfied: et-xmlfile in /usr/local/lib/python3.11/dist-packages (from openpyxl) (2.0.0)\n",
            "Requirement already satisfied: xlsxwriter in /usr/local/lib/python3.11/dist-packages (3.2.2)\n"
          ]
        }
      ]
    }
  ]
}