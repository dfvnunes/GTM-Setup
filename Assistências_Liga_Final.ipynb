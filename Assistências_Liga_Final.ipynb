{
  "nbformat": 4,
  "nbformat_minor": 0,
  "metadata": {
    "colab": {
      "provenance": [],
      "authorship_tag": "ABX9TyPqixn8IprnsreO83mV4G7Y",
      "include_colab_link": true
    },
    "kernelspec": {
      "name": "python3",
      "display_name": "Python 3"
    },
    "language_info": {
      "name": "python"
    }
  },
  "cells": [
    {
      "cell_type": "markdown",
      "metadata": {
        "id": "view-in-github",
        "colab_type": "text"
      },
      "source": [
        "<a href=\"https://colab.research.google.com/github/dfvnunes/GTM-Setup/blob/main/Assist%C3%AAncias_Liga_Final.ipynb\" target=\"_parent\"><img src=\"https://colab.research.google.com/assets/colab-badge.svg\" alt=\"Open In Colab\"/></a>"
      ]
    },
    {
      "cell_type": "code",
      "source": [
        "!pip install xlsxwriter"
      ],
      "metadata": {
        "colab": {
          "base_uri": "https://localhost:8080/"
        },
        "id": "JMRUzd2bl3CO",
        "outputId": "116f22c6-5585-4593-a8ff-945aabd7894e"
      },
      "execution_count": 27,
      "outputs": [
        {
          "output_type": "stream",
          "name": "stdout",
          "text": [
            "Requirement already satisfied: xlsxwriter in /usr/local/lib/python3.11/dist-packages (3.2.2)\n"
          ]
        }
      ]
    },
    {
      "cell_type": "code",
      "execution_count": 28,
      "metadata": {
        "id": "YU9UmJLeGcPq"
      },
      "outputs": [],
      "source": [
        "import pandas as pd\n",
        "import re\n",
        "import xlsxwriter"
      ]
    },
    {
      "cell_type": "code",
      "source": [
        "def abreviar_clubes_b_duas_colunas(df_drop, coluna1='Jogo', coluna2='Liga 2'):\n",
        "    \"\"\"\n",
        "    Substitui os nomes completos dos clubes B pelos seus nomes abreviados\n",
        "    nas duas colunas especificadas do DataFrame.\n",
        "\n",
        "    Args:\n",
        "        df (pd.DataFrame): O DataFrame do pandas.\n",
        "        coluna1 (str): O nome da primeira coluna onde os clubes B estão presentes.\n",
        "        coluna2 (str): O nome da segunda coluna onde os clubes B estão presentes.\n",
        "\n",
        "    Returns:\n",
        "        pd.DataFrame: O DataFrame com os nomes abreviados dos clubes B.\n",
        "    \"\"\"\n",
        "\n",
        "    clubes_b = {\n",
        "        'SL Benfica B': 'SLB B',\n",
        "        'Sporting CP B': 'SCP B',\n",
        "        'FC Porto B': 'FCP B',\n",
        "        'SC Braga B': 'SCB B',\n",
        "        'Vitória SC B': 'VSC B',\n",
        "        'Marítimo B': 'CSM B'\n",
        "    }\n",
        "\n",
        "    # Expressão regular para extrair os nomes dos clubes B\n",
        "    regex = r'(SL Benfica B|Sporting CP B|FC Porto B|SC Braga B|Vitória SC B|Marítimo B)'\n",
        "\n",
        "    # Extrai e substitui os nomes dos clubes B na coluna 1\n",
        "    df_drop[coluna1] = df_drop[coluna1].apply(lambda x: re.sub(regex, lambda m: clubes_b[m.group()], str(x)))\n",
        "\n",
        "    # Substitui os nomes completos pelos abreviados na coluna 2\n",
        "    df_drop[coluna2] = df_drop[coluna2].replace(clubes_b)\n",
        "\n",
        "    return df_drop"
      ],
      "metadata": {
        "id": "ThKY7P0wHwOR"
      },
      "execution_count": 29,
      "outputs": []
    },
    {
      "cell_type": "code",
      "source": [
        "def comparar_substrings(df_drop, Jogo, Liga1, Liga):\n",
        "\n",
        "    def verificar_substring(row):\n",
        "\n",
        "        # Remove todos os valores NaN da coluna Liga1 antes do cruzamento de dados\n",
        "        liga1_values = [value for value in df_drop[Liga1].unique() if pd.notna(value)]\n",
        "\n",
        "        # Verifica se algum dos valores da coluna Liga1 estão presentes na coluna Jogo\n",
        "        if any(liga1_value in row[Jogo] for liga1_value in liga1_values):\n",
        "            return \"Liga 1\"\n",
        "        else:\n",
        "            return \"Liga 2\"\n",
        "\n",
        "    df_drop[Liga] = df_drop.apply(verificar_substring, axis=1)\n",
        "    return df_drop"
      ],
      "metadata": {
        "id": "5BoGZC76H6ST"
      },
      "execution_count": 30,
      "outputs": []
    },
    {
      "cell_type": "code",
      "source": [
        "def extrair_numero_jornada(df_drop, coluna='Jornada'):\n",
        "    \"\"\"\n",
        "    Extrai o número da jornada da coluna especificada.\n",
        "\n",
        "    Args:\n",
        "        df (pd.DataFrame): O DataFrame do pandas.\n",
        "        coluna (str): O nome da coluna com os valores da jornada.\n",
        "\n",
        "    Returns:\n",
        "        pd.DataFrame: O DataFrame com os números das jornadas extraídos.\n",
        "    \"\"\"\n",
        "\n",
        "    def extrair_numero(valor):\n",
        "        \"\"\"Extrai o número da jornada de um valor.\"\"\"\n",
        "        match = re.search(r'(\\d+)', str(valor))\n",
        "        if match:\n",
        "            return match.group(1)\n",
        "        return valor  # Retorna o valor original se não encontrar um número\n",
        "\n",
        "    df_drop[coluna] = df_drop[coluna].apply(extrair_numero)\n",
        "    return df_drop"
      ],
      "metadata": {
        "id": "TU1ha96yIDql"
      },
      "execution_count": 31,
      "outputs": []
    },
    {
      "cell_type": "code",
      "source": [
        "excel_file = pd.ExcelFile('/content/Por_Jogo_upload.xlsx')"
      ],
      "metadata": {
        "id": "_CL091rCIIOr"
      },
      "execution_count": 32,
      "outputs": []
    },
    {
      "cell_type": "code",
      "source": [
        "with pd.ExcelWriter('Assistencias por Jogo.xlsx', mode='w') as writer:  # Substitua 'resultados.xlsx' pelo nome desejado\n",
        "    # Loop para iterar pelas folhas\n",
        "\n",
        "     for sheet_name in excel_file.sheet_names:\n",
        "         # Lê a folha atual\n",
        "         df = excel_file.parse(sheet_name)\n",
        "\n",
        "         # Aplica as funções ao DataFrame da folha\n",
        "         df_drop = df.drop('Ranking', axis=1)\n",
        "         df_drop = abreviar_clubes_b_duas_colunas(df_drop, coluna1='Jogo', coluna2='Liga 2')\n",
        "         df_drop = df_drop.rename(columns={'Liga 1': 'Liga1'})\n",
        "         df_drop = df_drop.rename(columns={'Liga 2': 'Liga2'})\n",
        "         df_drop['Jogo'] = df_drop['Jogo'].astype(str)\n",
        "         df_drop['Liga1'] = df_drop['Liga1'].astype(str)\n",
        "         df_liga = comparar_substrings(df_drop, 'Jogo', 'Liga1', 'Liga')\n",
        "         df_drop = df_drop.drop(['Liga1','Liga2'], axis=1)\n",
        "         df_drop = df_drop[~df_drop['Jornada'].isin(['Liga 1', 'Liga 2'])]\n",
        "         df_drop = extrair_numero_jornada(df_drop, coluna='Jornada')\n",
        "         df_drop['Jornada'] = pd.to_numeric(df_drop['Jornada'], errors='coerce').astype('Int64')\n",
        "         df_drop['Espectadores'] = pd.to_numeric(df_drop['Espectadores'], errors='coerce').astype('Int64')\n",
        "         df_drop['Temporada'] = sheet_name\n",
        "         df_drop = df_drop[['Liga', 'Temporada', 'Jornada', 'Jogo', 'Espectadores']]\n",
        "\n",
        "\n",
        "         # Guarda o resultado na folha correspondente\n",
        "         df_drop.to_excel(writer, sheet_name=sheet_name, index=False, header=True)\n",
        "         worksheet = writer.sheets[sheet_name]\n",
        "\n",
        "         for col_num, col_name in enumerate(df_drop.columns):\n",
        "\n",
        "            # Lê a largura da coluna\n",
        "            column_width = max(df_drop[col_name].astype(str).map(len).max(), len(col_name)) + 2\n",
        "\n",
        "\n",
        "            # Define o alinhamento e a largura da coluna\n",
        "            # Cria um formato para alinhamento\n",
        "            cell_format = writer.book.add_format()\n",
        "\n",
        "            # Define os parâmtros para o alinhamento das colunas\n",
        "            cell_format.set_align('center')\n",
        "            worksheet.set_column(col_num, col_num, column_width, cell_format)\n",
        "\n"
      ],
      "metadata": {
        "id": "jOq_EE9_Icfi"
      },
      "execution_count": null,
      "outputs": []
    }
  ]
}