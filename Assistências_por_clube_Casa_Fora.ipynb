{
  "nbformat": 4,
  "nbformat_minor": 0,
  "metadata": {
    "colab": {
      "provenance": [],
      "authorship_tag": "ABX9TyM9DWZx0Y0b0z5HwWU+Ka+L",
      "include_colab_link": true
    },
    "kernelspec": {
      "name": "python3",
      "display_name": "Python 3"
    },
    "language_info": {
      "name": "python"
    }
  },
  "cells": [
    {
      "cell_type": "markdown",
      "metadata": {
        "id": "view-in-github",
        "colab_type": "text"
      },
      "source": [
        "<a href=\"https://colab.research.google.com/github/dfvnunes/GTM-Setup/blob/main/Assist%C3%AAncias_por_clube_Casa_Fora.ipynb\" target=\"_parent\"><img src=\"https://colab.research.google.com/assets/colab-badge.svg\" alt=\"Open In Colab\"/></a>"
      ]
    },
    {
      "cell_type": "code",
      "execution_count": 1,
      "metadata": {
        "colab": {
          "base_uri": "https://localhost:8080/"
        },
        "id": "GyX4suYkGd-F",
        "outputId": "c130b4ae-8a42-4856-b30f-f76e1f463032"
      },
      "outputs": [
        {
          "output_type": "stream",
          "name": "stdout",
          "text": [
            "Collecting xlsxwriter==3.0.3\n",
            "  Downloading XlsxWriter-3.0.3-py3-none-any.whl.metadata (2.6 kB)\n",
            "Downloading XlsxWriter-3.0.3-py3-none-any.whl (149 kB)\n",
            "\u001b[?25l   \u001b[90m━━━━━━━━━━━━━━━━━━━━━━━━━━━━━━━━━━━━━━━━\u001b[0m \u001b[32m0.0/150.0 kB\u001b[0m \u001b[31m?\u001b[0m eta \u001b[36m-:--:--\u001b[0m\r\u001b[2K   \u001b[90m━━━━━━━━━━━━━━━━━━━━━━━━━━━━━━━━━━━━━━━━\u001b[0m \u001b[32m150.0/150.0 kB\u001b[0m \u001b[31m4.6 MB/s\u001b[0m eta \u001b[36m0:00:00\u001b[0m\n",
            "\u001b[?25hInstalling collected packages: xlsxwriter\n",
            "Successfully installed xlsxwriter-3.0.3\n"
          ]
        }
      ],
      "source": [
        "from IPython import get_ipython\n",
        "from IPython.display import display\n",
        "# %%\n",
        "!pip install xlsxwriter==3.0.3\n",
        "import pandas as pd\n",
        "import re\n",
        "import xlsxwriter\n",
        "\n",
        "# Função para extrair o clube da coluna 'Jogo' com base na posição\n",
        "def extrair_clube(jogo, posicao, temporada, dicionario_clubes):\n",
        "    clubes_da_temporada = dicionario_clubes.get(temporada, [])\n",
        "    # Separar os clubes no nome do jogo usando regex\n",
        "    clubes_no_jogo = re.findall(r'\\b(?:' + '|'.join(clubes_da_temporada) + r')\\b', jogo)\n",
        "    if len(clubes_no_jogo) > posicao:\n",
        "        return clubes_no_jogo[posicao]\n",
        "    else:\n",
        "        return None\n",
        "\n",
        "# Ler o ficheiro Excel com os clubes por temporada e liga\n",
        "clubes_por_temporada_file = pd.ExcelFile('Dicionário de clubes por época.xlsm')\n",
        "dicionario_clubes = {}\n",
        "for sheet_name in clubes_por_temporada_file.sheet_names:\n",
        "    df_clubes = clubes_por_temporada_file.parse(sheet_name)\n",
        "    clubes_da_temporada = df_clubes['Liga 1'].tolist() + df_clubes['Liga 2'].tolist()\n",
        "    clubes_da_temporada = [str(clube) for clube in clubes_da_temporada if pd.notna(clube)]\n",
        "    dicionario_clubes[sheet_name] = clubes_da_temporada\n",
        "\n",
        "# Função para obter a liga do clube\n",
        "def obter_liga(clube, temporada, dicionario_clubes):\n",
        "    if clube in dicionario_clubes.get(temporada, []):\n",
        "        df_liga = pd.read_excel('Dicionário de clubes por época.xlsm', sheet_name=temporada)\n",
        "        if clube in df_liga['Liga 1'].values:\n",
        "            return 'Liga 1'\n",
        "        elif clube in df_liga['Liga 2'].values:\n",
        "            return 'Liga 2'\n",
        "    return None\n",
        "\n",
        "# Ler o ficheiro Excel com os dados dos jogos\n",
        "excel_file = pd.ExcelFile('Assistencias por Jogo Final.xlsx')\n",
        "\n",
        "# Criar um dicionário para armazenar as DataFrames de cada época\n",
        "dataframes_por_epoca = {}\n",
        "\n",
        "# Iterar pelas folhas do Excel\n",
        "for sheet_name in excel_file.sheet_names:\n",
        "    df = excel_file.parse(sheet_name)\n",
        "\n",
        "    # Extrair clubes da coluna 'Jogo'\n",
        "    df['Clube Casa'] = df.apply(lambda row: extrair_clube(row['Jogo'], 0, row['Temporada'], dicionario_clubes), axis=1)\n",
        "    df['Clube Fora'] = df.apply(lambda row: extrair_clube(row['Jogo'], 1, row['Temporada'], dicionario_clubes), axis=1)\n",
        "\n",
        "    # Criar um dicionário para armazenar as assistências por clube\n",
        "    assistencias_por_clube = {}\n",
        "\n",
        "    # Iterar pelas linhas do DataFrame\n",
        "    for index, row in df.iterrows():\n",
        "        clube_casa = row['Clube Casa']\n",
        "        clube_fora = row['Clube Fora']\n",
        "        espectadores = row['Espectadores']\n",
        "\n",
        "        # Adicionar assistências para o clube da casa\n",
        "        assistencias_por_clube.setdefault(clube_casa, {'Assistências Casa': 0, 'Assistências Fora': 0, 'Total por Clube': 0})\n",
        "        assistencias_por_clube[clube_casa]['Assistências Casa'] += espectadores\n",
        "        assistencias_por_clube[clube_casa]['Total por Clube'] += espectadores\n",
        "\n",
        "        # Adicionar assistências para o clube visitante, exceto se o jogo for em casa de um dos \"três grandes\"\n",
        "        if clube_casa not in [\"SL Benfica\", \"Sporting CP\", \"FC Porto\"]:  # Nova condição\n",
        "            assistencias_por_clube.setdefault(clube_fora, {'Assistências Casa': 0, 'Assistências Fora': 0, 'Total por Clube': 0})\n",
        "            assistencias_por_clube[clube_fora]['Assistências Fora'] += espectadores\n",
        "\n",
        "    # Criar um DataFrame a partir do dicionário de assistências\n",
        "    clube_total = pd.DataFrame.from_dict(assistencias_por_clube, orient='index').reset_index()\n",
        "    clube_total.rename(columns={'index': 'Clube'}, inplace=True)\n",
        "\n",
        "    # Calcular o total de assistências por clube\n",
        "    clube_total['Total por Clube'] = clube_total['Assistências Casa'] + clube_total['Assistências Fora']\n",
        "\n",
        "    # Adicionar coluna \"Liga\"\n",
        "    clube_total['Liga'] = clube_total.apply(lambda row: obter_liga(row['Clube'], sheet_name, dicionario_clubes), axis=1)\n",
        "\n",
        "    # Adicionar coluna \"Temporada\"\n",
        "    clube_total['Temporada'] = sheet_name\n",
        "\n",
        "    # Reordenar as colunas\n",
        "    clube_total = clube_total[['Liga', 'Temporada', 'Clube', 'Assistências Casa', 'Assistências Fora', 'Total por Clube']]\n",
        "\n",
        "    # Armazenar a DataFrame no dicionário dataframes_por_epoca\n",
        "    dataframes_por_epoca[sheet_name] = clube_total\n",
        "\n",
        "# Exportar as DataFrames para um ficheiro Excel com colunas centradas\n",
        "with pd.ExcelWriter('assistencias_por_clube_e_epoca.xlsx', engine='xlsxwriter') as writer:\n",
        "    for epoca, dataframe in dataframes_por_epoca.items():\n",
        "        # Ordenar o DataFrame pela coluna \"Total por Clube\" em ordem descendente\n",
        "        dataframe = dataframe.sort_values(by=['Total por Clube'], ascending=False)\n",
        "        dataframe.to_excel(writer, sheet_name=epoca, index=False)\n",
        "        # Centralizar as colunas\n",
        "        worksheet = writer.sheets[epoca]\n",
        "        for col_num, col_name in enumerate(dataframe.columns):\n",
        "            cell_format = writer.book.add_format()\n",
        "            cell_format.set_align('center')\n",
        "            worksheet.set_column(col_num, col_num, 15, cell_format)"
      ]
    }
  ]
}